{
 "cells": [
  {
   "cell_type": "code",
   "execution_count": 3,
   "metadata": {},
   "outputs": [],
   "source": [
    "import pandas\n",
    "import csv\n",
    "import os\n",
    "\n",
    "\n",
    "def add_full_name(path_to_csv, path_to_new_csv):\n",
    "    \n",
    "    df = pandas.read_csv(path_to_csv)\n",
    "    df[\"nameFull\"] = df[\"nameFirst\"] + \" \" + df[\"nameLast\"]\n",
    "    df.to_csv(path_to_new_csv)\n",
    "\n",
    "fin = open('People.csv', 'r')\n",
    "\n",
    "fout = open('New_People.csv', 'w')    \n",
    "\n",
    "if __name__ == \"__main__\":\n",
    "    \n",
    "    path_to_csv = \"People.csv\"\n",
    "    path_to_new_csv = \"New_People.csv\"\n",
    "    add_full_name(path_to_csv, path_to_new_csv)\n",
    "    \n",
    "    "
   ]
  },
  {
   "cell_type": "code",
   "execution_count": null,
   "metadata": {},
   "outputs": [],
   "source": []
  }
 ],
 "metadata": {
  "kernelspec": {
   "display_name": "Python 3",
   "language": "python",
   "name": "python3"
  },
  "language_info": {
   "codemirror_mode": {
    "name": "ipython",
    "version": 3
   },
   "file_extension": ".py",
   "mimetype": "text/x-python",
   "name": "python",
   "nbconvert_exporter": "python",
   "pygments_lexer": "ipython3",
   "version": "3.7.1"
  }
 },
 "nbformat": 4,
 "nbformat_minor": 2
}
