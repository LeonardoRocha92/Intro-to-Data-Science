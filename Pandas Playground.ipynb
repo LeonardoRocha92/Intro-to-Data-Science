{
 "cells": [
  {
   "cell_type": "code",
   "execution_count": 8,
   "metadata": {},
   "outputs": [
    {
     "name": "stdout",
     "output_type": "stream",
     "text": [
      "0       Pedra Filosofal\n",
      "1        Camara Secreta\n",
      "2     Prisioneiro de Az\n",
      "3        Calice de Fogo\n",
      "4        Ordem da Fenix\n",
      "5    Enigma do Principe\n",
      "6    Reliquias da Morte\n",
      "Name: filme, dtype: object\n",
      "\n",
      "0    2001\n",
      "1    2002\n",
      "2    2004\n",
      "3    2005\n",
      "4    2007\n",
      "5    2009\n",
      "6    2010\n",
      "Name: ano, dtype: int64\n",
      "\n",
      "                filme   ano  indicao oscar  vitoria\n",
      "0     Pedra Filosofal  2001              3        1\n",
      "1      Camara Secreta  2002              1        0\n",
      "2   Prisioneiro de Az  2004              2        1\n",
      "3      Calice de Fogo  2005              4        2\n",
      "4      Ordem da Fenix  2007              2        1\n",
      "5  Enigma do Principe  2009              1        0\n",
      "6  Reliquias da Morte  2010              3        2\n"
     ]
    }
   ],
   "source": [
    "import pandas as pd\n",
    "if True:\n",
    "    data = {'filme': ['Pedra Filosofal', 'Camara Secreta', 'Prisioneiro de Az', 'Calice de Fogo', 'Ordem da Fenix','Enigma do Principe', 'Reliquias da Morte'],\n",
    "            'ano': [2001, 2002, 2004, 2005, 2007, 2009,2010],\n",
    "            'indicao oscar': [3, 1, 2, 4, 2, 1, 3,],\n",
    "            'vitoria': [1, 0, 1, 2, 1, 0, 2]}\n",
    "    hp = pd.DataFrame(data)\n",
    "    print (hp['filme'])\n",
    "    print ('')\n",
    "    print (hp.ano)  \n",
    "    print ('')\n",
    "    print (hp[['filme','ano', 'indicao oscar', 'vitoria']])\n"
   ]
  },
  {
   "cell_type": "code",
   "execution_count": null,
   "metadata": {},
   "outputs": [],
   "source": []
  },
  {
   "cell_type": "code",
   "execution_count": null,
   "metadata": {},
   "outputs": [],
   "source": []
  }
 ],
 "metadata": {
  "kernelspec": {
   "display_name": "Python 3",
   "language": "python",
   "name": "python3"
  },
  "language_info": {
   "codemirror_mode": {
    "name": "ipython",
    "version": 3
   },
   "file_extension": ".py",
   "mimetype": "text/x-python",
   "name": "python",
   "nbconvert_exporter": "python",
   "pygments_lexer": "ipython3",
   "version": "3.7.1"
  }
 },
 "nbformat": 4,
 "nbformat_minor": 2
}
