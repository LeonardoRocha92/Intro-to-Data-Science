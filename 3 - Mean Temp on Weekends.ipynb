{
 "cells": [
  {
   "cell_type": "code",
   "execution_count": null,
   "metadata": {},
   "outputs": [],
   "source": [
    "import pandas\n",
    "import pandasql\n",
    "\n",
    "def avg_weekend_temperature(filename):\n",
    "    \n",
    "    weather_data = pandas.read_csv(filename)\n",
    "    \n",
    "    q = \"\"\" SELECT AVG(meantempi) FROM \n",
    "            weather_data \n",
    "        WHERE \n",
    "            cast(strftime('%w', date) as integer) = 6 \n",
    "            OR cast(strftime('%w', date) as integer) = 0 \n",
    "    \"\"\"\n",
    "    \n",
    "    mean_temp_weekends = pandasql.sqldf(q.lower(), locals())\n",
    "    return mean_temp_weekends"
   ]
  }
 ],
 "metadata": {
  "kernelspec": {
   "display_name": "Python 3",
   "language": "python",
   "name": "python3"
  },
  "language_info": {
   "codemirror_mode": {
    "name": "ipython",
    "version": 3
   },
   "file_extension": ".py",
   "mimetype": "text/x-python",
   "name": "python",
   "nbconvert_exporter": "python",
   "pygments_lexer": "ipython3",
   "version": "3.7.1"
  }
 },
 "nbformat": 4,
 "nbformat_minor": 2
}
